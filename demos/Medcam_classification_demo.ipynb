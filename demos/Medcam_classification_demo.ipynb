{
 "cells": [
  {
   "cell_type": "markdown",
   "metadata": {
    "colab_type": "text",
    "id": "VC1x79crLbWG"
   },
   "source": [
    "# **Using M3d-CAM for classification**"
   ]
  },
  {
   "cell_type": "markdown",
   "metadata": {
    "colab_type": "text",
    "id": "412fWaVFLi5n"
   },
   "source": [
    "In this demo you will learn how to use M3d-CAM for classification using a resnet152. We will use a subset of the famous [Cats vs Dogs Dataset](https://github.com/Karol-G/gcam_cat_dog_examples) for this demo. \\\\\n",
    "\n",
    "This demonstration was made using Google Colab and probably won't work if you are not using Colab."
   ]
  },
  {
   "cell_type": "markdown",
   "metadata": {
    "colab_type": "text",
    "id": "ULVBcN6rNYKj"
   },
   "source": [
    "# Preparation"
   ]
  },
  {
   "cell_type": "markdown",
   "metadata": {
    "colab_type": "text",
    "id": "9AjINkJ-Na4T"
   },
   "source": [
    "Clone the Cats vs Dogs repository and set up the data structure:"
   ]
  },
  {
   "cell_type": "code",
   "execution_count": null,
   "metadata": {
    "colab": {},
    "colab_type": "code",
    "id": "6WgKnOr4vgJ8"
   },
   "outputs": [],
   "source": [
    "!git clone https://github.com/Karol-G/Gcam_cat_dog_examples.git"
   ]
  },
  {
   "cell_type": "code",
   "execution_count": null,
   "metadata": {},
   "outputs": [],
   "source": [
    "%pip uninstall -y medcam"
   ]
  },
  {
   "cell_type": "markdown",
   "metadata": {
    "colab_type": "text",
    "id": "PXW6az_9Otqd"
   },
   "source": [
    "Install M3d-CAM:"
   ]
  },
  {
   "cell_type": "code",
   "execution_count": null,
   "metadata": {
    "colab": {},
    "colab_type": "code",
    "id": "z3QabwbOOuP9"
   },
   "outputs": [],
   "source": [
    "%pip install git+https://github.com/MECLabTUDA/M3d-Cam.git"
   ]
  },
  {
   "cell_type": "markdown",
   "metadata": {
    "colab_type": "text",
    "id": "kRnRCxG6O8Ku"
   },
   "source": [
    "# Model & dataloader setup"
   ]
  },
  {
   "cell_type": "markdown",
   "metadata": {
    "colab_type": "text",
    "id": "51ExmwZVQky5"
   },
   "source": [
    "Next we set up our resnet152 model and the dataloader for loading the cat and dog images:"
   ]
  },
  {
   "cell_type": "code",
   "execution_count": null,
   "metadata": {
    "colab": {},
    "colab_type": "code",
    "id": "B6ATUSqGPPY8"
   },
   "outputs": [],
   "source": [
    "from torchvision import models, transforms\n",
    "from torchvision.datasets import ImageFolder\n",
    "from torch.utils.data import DataLoader\n",
    "import torch\n",
    "import cv2\n",
    "\n",
    "# Setup the model\n",
    "device = torch.device('cuda' if torch.cuda.is_available() else 'cpu')\n",
    "model = models.resnet152(pretrained=True)\n",
    "model.to(device=device)\n",
    "model.eval()\n",
    "\n",
    "def load_image(image_path):\n",
    "    raw_image = cv2.imread(image_path)\n",
    "    raw_image = cv2.resize(raw_image, (224,) * 2)\n",
    "    image = transforms.Compose(\n",
    "        [\n",
    "            transforms.ToTensor(),\n",
    "            transforms.Normalize(mean=[0.485, 0.456, 0.406], std=[0.229, 0.224, 0.225]),\n",
    "        ]\n",
    "    )(raw_image[..., ::-1].copy())\n",
    "    image = image.to(device)\n",
    "    return image\n",
    "\n",
    "# Load the dataset\n",
    "dataset = ImageFolder('Gcam_cat_dog_examples/dataset', loader=load_image)\n",
    "# Set up the dataloader\n",
    "data_loader = DataLoader(dataset, batch_size=1, shuffle=False)"
   ]
  },
  {
   "cell_type": "markdown",
   "metadata": {
    "colab_type": "text",
    "id": "H_t16-CHQpOw"
   },
   "source": [
    "# Injecting M3d-CAM into resnet152"
   ]
  },
  {
   "cell_type": "markdown",
   "metadata": {
    "colab_type": "text",
    "id": "jYHTpfmjQt_L"
   },
   "source": [
    "The beauty of M3d-CAM is that you only need to insert a single line of code (or two if you count the import) for everything to work:"
   ]
  },
  {
   "cell_type": "code",
   "execution_count": null,
   "metadata": {
    "colab": {},
    "colab_type": "code",
    "id": "Sokv7ECZPcB3"
   },
   "outputs": [],
   "source": [
    "from medcam import medcam\n",
    "\n",
    "model = medcam.inject(model, output_dir='attention_maps', backend='gcam', layer='layer4', label='best', save_maps=True)"
   ]
  },
  {
   "cell_type": "markdown",
   "metadata": {
    "colab_type": "text",
    "id": "Ay2eZJuSXsje"
   },
   "source": [
    "After your model is injected with M3d-CAM it will still behave as it would normally do. So even if you have a big and complex project nothing will break and it will run as it always did. \\\\\n",
    "The only difference is that every time the `model.forward()` of your model is called attention maps will be generated for your current input and automatically saved to `output_dir`. \\\\\n",
    "The output of your model stays the same as before the injection. (Of course you can change this behavior and return the attention maps instead by setting `replace=True` during the injection).\n",
    "\n",
    "Now to generate some attention maps we will call the `model.forward()` with the cat and dog images a couple times:"
   ]
  },
  {
   "cell_type": "code",
   "execution_count": null,
   "metadata": {
    "colab": {},
    "colab_type": "code",
    "id": "Obfr3Xk8aAAQ"
   },
   "outputs": [],
   "source": [
    "for batch in data_loader:\n",
    "    _ = model(batch[0])"
   ]
  },
  {
   "cell_type": "markdown",
   "metadata": {
    "colab_type": "text",
    "id": "nst34bUteTYk"
   },
   "source": [
    "Now you can display the generated attention maps in colab with:"
   ]
  },
  {
   "cell_type": "code",
   "execution_count": null,
   "metadata": {
    "colab": {},
    "colab_type": "code",
    "id": "BEsgyHFKeaO2"
   },
   "outputs": [],
   "source": [
    "from IPython.display import Image\n",
    "\n",
    "Image('attention_maps/layer4/attention_map_0_0_0.png')"
   ]
  },
  {
   "cell_type": "markdown",
   "metadata": {
    "colab_type": "text",
    "id": "m0yxK-7Tep0R"
   },
   "source": [
    "# Some further notes"
   ]
  },
  {
   "cell_type": "markdown",
   "metadata": {
    "colab_type": "text",
    "id": "lTJB4FCbRuDD"
   },
   "source": [
    "As M3d-CAM offers multiple methods of visualization (*backends*) you can simply change the backend keyword to one of the following: \\\\\n",
    "- *gbp* (Guided Backpropagation)\n",
    "- *gcam* (Grad-Cam, default)\n",
    "- *ggcam* (Guided Grad-Cam)\n",
    "- *gcampp* (Grad-Cam++)\n",
    "\n",
    "The layer keyword tells M3d-CAM for which layer the attention maps should be generated. You can also set the layer to 'auto' (the default setting) and M3d-CAM will choose the last convolutional layer which is what you want in most cases. However this is still experimental and won't always choose the correct layer. But it works in most cases. \\\\\n",
    "You can print all layers of a model with `medcam.get_layers(model)` if you don't know the layer names. However you cannot generate attention maps from every layer. \\\\\n",
    "\n",
    "Furthermore the label keyword tells M3d-CAM on which class label it should focus. The default setting is 'best' which always selects the class with the highest probability. Alternativly you can set the label manually as a number."
   ]
  }
 ],
 "metadata": {
  "colab": {
   "collapsed_sections": [],
   "name": "Gcam classification demo.ipynb",
   "provenance": []
  },
  "kernelspec": {
   "display_name": "env",
   "language": "python",
   "name": "python3"
  },
  "language_info": {
   "codemirror_mode": {
    "name": "ipython",
    "version": 3
   },
   "file_extension": ".py",
   "mimetype": "text/x-python",
   "name": "python",
   "nbconvert_exporter": "python",
   "pygments_lexer": "ipython3",
   "version": "3.12.3"
  },
  "pycharm": {
   "stem_cell": {
    "cell_type": "raw",
    "metadata": {
     "collapsed": false
    },
    "source": []
   }
  }
 },
 "nbformat": 4,
 "nbformat_minor": 0
}
